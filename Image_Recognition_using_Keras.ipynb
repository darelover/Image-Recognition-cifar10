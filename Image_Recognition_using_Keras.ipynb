{
  "nbformat": 4,
  "nbformat_minor": 0,
  "metadata": {
    "colab": {
      "name": "Image Recognition using Keras.ipynb",
      "version": "0.3.2",
      "provenance": [],
      "collapsed_sections": [],
      "include_colab_link": true
    },
    "kernelspec": {
      "name": "python2",
      "display_name": "Python 2"
    },
    "accelerator": "GPU"
  },
  "cells": [
    {
      "cell_type": "markdown",
      "metadata": {
        "id": "view-in-github",
        "colab_type": "text"
      },
      "source": [
        "<a href=\"https://colab.research.google.com/github/darelover/Image-Recognition-cifar10/blob/master/Image_Recognition_using_Keras.ipynb\" target=\"_parent\"><img src=\"https://colab.research.google.com/assets/colab-badge.svg\" alt=\"Open In Colab\"/></a>"
      ]
    },
    {
      "metadata": {
        "colab_type": "code",
        "id": "9BEQOiFh4Llu",
        "colab": {
          "base_uri": "https://localhost:8080/",
          "height": 35
        },
        "outputId": "ecf5925a-cd24-459a-a160-508f2f82c0f4"
      },
      "cell_type": "code",
      "source": [
        "# https://keras.io/\n",
        "!pip install -q keras\n",
        "import keras"
      ],
      "execution_count": 1,
      "outputs": [
        {
          "output_type": "stream",
          "text": [
            "Using TensorFlow backend.\n"
          ],
          "name": "stderr"
        }
      ]
    },
    {
      "metadata": {
        "colab_type": "code",
        "id": "HZziDFOW2Wpx",
        "colab": {}
      },
      "cell_type": "code",
      "source": [
        "import numpy as np\n",
        "import keras\n",
        "from keras.datasets import cifar10\n",
        "from keras.models import Sequential\n",
        "from keras.layers import Conv2D, MaxPooling2D, Flatten, Dense, BatchNormalization, Dropout\n",
        "import matplotlib.pyplot as plt\n",
        "%matplotlib inline"
      ],
      "execution_count": 0,
      "outputs": []
    },
    {
      "metadata": {
        "colab_type": "code",
        "id": "GNvpnKwH2Wp4",
        "colab": {
          "base_uri": "https://localhost:8080/",
          "height": 86
        },
        "outputId": "e134bba6-634a-4cb4-cb27-4972495118df"
      },
      "cell_type": "code",
      "source": [
        "(X_train_orig, Y_train_orig), (X_test_orig, Y_test_orig) = cifar10.load_data()\n",
        "\n",
        "print X_train_orig.shape\n",
        "print X_test_orig.shape\n",
        "\n",
        "print Y_train_orig.shape\n",
        "print Y_test_orig.shape"
      ],
      "execution_count": 3,
      "outputs": [
        {
          "output_type": "stream",
          "text": [
            "(50000, 32, 32, 3)\n",
            "(10000, 32, 32, 3)\n",
            "(50000, 1)\n",
            "(10000, 1)\n"
          ],
          "name": "stdout"
        }
      ]
    },
    {
      "metadata": {
        "colab_type": "code",
        "id": "6KzFHVGG2Wp8",
        "colab": {
          "base_uri": "https://localhost:8080/",
          "height": 284
        },
        "outputId": "6f5dd124-8a6b-4683-ef98-110ef8756684"
      },
      "cell_type": "code",
      "source": [
        "imgplot = plt.imshow(X_train_orig[3])\n",
        "print Y_train_orig[3]"
      ],
      "execution_count": 4,
      "outputs": [
        {
          "output_type": "stream",
          "text": [
            "[4]\n"
          ],
          "name": "stdout"
        },
        {
          "output_type": "display_data",
          "data": {
            "image/png": "[encoded data removed]",
            "text/plain": [
              "<Figure size 432x288 with 1 Axes>"
            ]
          },
          "metadata": {
            "tags": []
          }
        }
      ]
    },
    {
      "metadata": {
        "colab_type": "code",
        "id": "UYpwwMfv2WqA",
        "colab": {
          "base_uri": "https://localhost:8080/",
          "height": 284
        },
        "outputId": "4cbb0834-3fdb-43dd-c9b3-40322334995c"
      },
      "cell_type": "code",
      "source": [
        "imgplot = plt.imshow(X_test_orig[3])\n",
        "print Y_test_orig[3] "
      ],
      "execution_count": 5,
      "outputs": [
        {
          "output_type": "stream",
          "text": [
            "[0]\n"
          ],
          "name": "stdout"
        },
        {
          "output_type": "display_data",
          "data": {
            "image/png": "[encoded data removed]",
            "text/plain": [
              "<Figure size 432x288 with 1 Axes>"
            ]
          },
          "metadata": {
            "tags": []
          }
        }
      ]
    },
    {
      "metadata": {
        "colab_type": "code",
        "id": "isFrXP5q2WqD",
        "colab": {}
      },
      "cell_type": "code",
      "source": [
        "input_shape = (32,32,3)\n",
        "num_classes = 10"
      ],
      "execution_count": 0,
      "outputs": []
    },
    {
      "metadata": {
        "colab_type": "code",
        "id": "SVOQpqxV2WqG",
        "colab": {
          "base_uri": "https://localhost:8080/",
          "height": 953
        },
        "outputId": "dd94f100-3507-46d8-90e9-c57b5bd4629e"
      },
      "cell_type": "code",
      "source": [
        "model = Sequential()\n",
        "model.add(Conv2D(32, (3,3), padding='same', activation='relu', input_shape=input_shape))\n",
        "model.add(BatchNormalization())\n",
        "model.add(Conv2D(32, (3,3), padding='same', activation='relu'))\n",
        "model.add(BatchNormalization())\n",
        "model.add(MaxPooling2D(pool_size=(2,2)))\n",
        "model.add(Dropout(0.2))\n",
        " \n",
        "model.add(Conv2D(64, (3,3), padding='same', activation='relu'))\n",
        "model.add(BatchNormalization())\n",
        "model.add(Conv2D(64, (3,3), padding='same', activation='relu'))\n",
        "model.add(BatchNormalization())\n",
        "model.add(MaxPooling2D(pool_size=(2,2)))\n",
        "model.add(Dropout(0.3))\n",
        " \n",
        "model.add(Conv2D(128, (3,3), padding='same', activation='relu'))\n",
        "model.add(BatchNormalization())\n",
        "model.add(Conv2D(128, (3,3), padding='same', activation='relu'))\n",
        "model.add(BatchNormalization())\n",
        "model.add(MaxPooling2D(pool_size=(2,2)))\n",
        "model.add(Dropout(0.4))\n",
        " \n",
        "model.add(Flatten())\n",
        "model.add(Dense(num_classes, activation='softmax'))\n",
        " \n",
        "model.summary()"
      ],
      "execution_count": 7,
      "outputs": [
        {
          "output_type": "stream",
          "text": [
            "WARNING:tensorflow:From /usr/local/lib/python2.7/dist-packages/tensorflow/python/framework/op_def_library.py:263: colocate_with (from tensorflow.python.framework.ops) is deprecated and will be removed in a future version.\n",
            "Instructions for updating:\n",
            "Colocations handled automatically by placer.\n",
            "WARNING:tensorflow:From /usr/local/lib/python2.7/dist-packages/keras/backend/tensorflow_backend.py:3445: calling dropout (from tensorflow.python.ops.nn_ops) with keep_prob is deprecated and will be removed in a future version.\n",
            "Instructions for updating:\n",
            "Please use `rate` instead of `keep_prob`. Rate should be set to `rate = 1 - keep_prob`.\n",
            "_________________________________________________________________\n",
            "Layer (type)                 Output Shape              Param #   \n",
            "=================================================================\n",
            "conv2d_1 (Conv2D)            (None, 32, 32, 32)        896       \n",
            "_________________________________________________________________\n",
            "batch_normalization_1 (Batch (None, 32, 32, 32)        128       \n",
            "_________________________________________________________________\n",
            "conv2d_2 (Conv2D)            (None, 32, 32, 32)        9248      \n",
            "_________________________________________________________________\n",
            "batch_normalization_2 (Batch (None, 32, 32, 32)        128       \n",
            "_________________________________________________________________\n",
            "max_pooling2d_1 (MaxPooling2 (None, 16, 16, 32)        0         \n",
            "_________________________________________________________________\n",
            "dropout_1 (Dropout)          (None, 16, 16, 32)        0         \n",
            "_________________________________________________________________\n",
            "conv2d_3 (Conv2D)            (None, 16, 16, 64)        18496     \n",
            "_________________________________________________________________\n",
            "batch_normalization_3 (Batch (None, 16, 16, 64)        256       \n",
            "_________________________________________________________________\n",
            "conv2d_4 (Conv2D)            (None, 16, 16, 64)        36928     \n",
            "_________________________________________________________________\n",
            "batch_normalization_4 (Batch (None, 16, 16, 64)        256       \n",
            "_________________________________________________________________\n",
            "max_pooling2d_2 (MaxPooling2 (None, 8, 8, 64)          0         \n",
            "_________________________________________________________________\n",
            "dropout_2 (Dropout)          (None, 8, 8, 64)          0         \n",
            "_________________________________________________________________\n",
            "conv2d_5 (Conv2D)            (None, 8, 8, 128)         73856     \n",
            "_________________________________________________________________\n",
            "batch_normalization_5 (Batch (None, 8, 8, 128)         512       \n",
            "_________________________________________________________________\n",
            "conv2d_6 (Conv2D)            (None, 8, 8, 128)         147584    \n",
            "_________________________________________________________________\n",
            "batch_normalization_6 (Batch (None, 8, 8, 128)         512       \n",
            "_________________________________________________________________\n",
            "max_pooling2d_3 (MaxPooling2 (None, 4, 4, 128)         0         \n",
            "_________________________________________________________________\n",
            "dropout_3 (Dropout)          (None, 4, 4, 128)         0         \n",
            "_________________________________________________________________\n",
            "flatten_1 (Flatten)          (None, 2048)              0         \n",
            "_________________________________________________________________\n",
            "dense_1 (Dense)              (None, 10)                20490     \n",
            "=================================================================\n",
            "Total params: 309,290\n",
            "Trainable params: 308,394\n",
            "Non-trainable params: 896\n",
            "_________________________________________________________________\n"
          ],
          "name": "stdout"
        }
      ]
    },
    {
      "metadata": {
        "colab_type": "code",
        "id": "vmpHRltM2WqL",
        "colab": {}
      },
      "cell_type": "code",
      "source": [
        "def convert_to_one_hot(Y, C):\n",
        "    Y = np.eye(C)[Y.reshape(-1)].T\n",
        "    return Y"
      ],
      "execution_count": 0,
      "outputs": []
    },
    {
      "metadata": {
        "colab_type": "code",
        "id": "BoDrqyVX2WqO",
        "colab": {
          "base_uri": "https://localhost:8080/",
          "height": 86
        },
        "outputId": "94c9b231-15aa-4e5e-e71f-4e1b32f186e0"
      },
      "cell_type": "code",
      "source": [
        "X_train = X_train_orig.astype('float32')\n",
        "X_test = X_test_orig.astype('float32')\n",
        "\n",
        "X_train /= 255\n",
        "X_test /= 255\n",
        "\n",
        "Y_train = convert_to_one_hot(Y_train_orig, num_classes).T\n",
        "Y_test = convert_to_one_hot(Y_test_orig, num_classes).T\n",
        "\n",
        "print X_train.shape\n",
        "print X_test.shape\n",
        "\n",
        "print Y_train.shape\n",
        "print Y_test.shape"
      ],
      "execution_count": 9,
      "outputs": [
        {
          "output_type": "stream",
          "text": [
            "(50000, 32, 32, 3)\n",
            "(10000, 32, 32, 3)\n",
            "(50000, 10)\n",
            "(10000, 10)\n"
          ],
          "name": "stdout"
        }
      ]
    },
    {
      "metadata": {
        "colab_type": "code",
        "id": "gwXWU0sm2WqI",
        "colab": {}
      },
      "cell_type": "code",
      "source": [
        "opt_rms = keras.optimizers.rmsprop(lr=0.001, decay=1e-6)\n",
        "model.compile(optimizer=opt_rms, loss='categorical_crossentropy', metrics=['accuracy'])"
      ],
      "execution_count": 0,
      "outputs": []
    },
    {
      "metadata": {
        "colab_type": "code",
        "id": "xOFY7Isr2WqU",
        "colab": {
          "base_uri": "https://localhost:8080/",
          "height": 1834
        },
        "outputId": "19300abd-a33a-42a6-e931-f149fa415d45"
      },
      "cell_type": "code",
      "source": [
        "hist = model.fit(X_train, Y_train, epochs=50, batch_size=256, validation_data=(X_test,Y_test), shuffle=True) "
      ],
      "execution_count": 11,
      "outputs": [
        {
          "output_type": "stream",
          "text": [
            "WARNING:tensorflow:From /usr/local/lib/python2.7/dist-packages/tensorflow/python/ops/math_ops.py:3066: to_int32 (from tensorflow.python.ops.math_ops) is deprecated and will be removed in a future version.\n",
            "Instructions for updating:\n",
            "Use tf.cast instead.\n",
            "Train on 50000 samples, validate on 10000 samples\n",
            "Epoch 1/50\n",
            "50000/50000 [==============================] - 19s 373us/step - loss: 1.8784 - acc: 0.4360 - val_loss: 1.6672 - val_acc: 0.4513\n",
            "Epoch 2/50\n",
            "50000/50000 [==============================] - 16s 327us/step - loss: 1.1294 - acc: 0.6198 - val_loss: 1.2511 - val_acc: 0.5837\n",
            "Epoch 3/50\n",
            "50000/50000 [==============================] - 16s 327us/step - loss: 0.9224 - acc: 0.6940 - val_loss: 0.9104 - val_acc: 0.6931\n",
            "Epoch 4/50\n",
            "50000/50000 [==============================] - 16s 325us/step - loss: 0.8087 - acc: 0.7308 - val_loss: 0.9231 - val_acc: 0.6968\n",
            "Epoch 5/50\n",
            "50000/50000 [==============================] - 16s 325us/step - loss: 0.7275 - acc: 0.7605 - val_loss: 1.9143 - val_acc: 0.3990\n",
            "Epoch 6/50\n",
            "50000/50000 [==============================] - 16s 322us/step - loss: 0.7031 - acc: 0.7747 - val_loss: 0.8938 - val_acc: 0.7176\n",
            "Epoch 7/50\n",
            "50000/50000 [==============================] - 16s 320us/step - loss: 0.6309 - acc: 0.7939 - val_loss: 0.9179 - val_acc: 0.7082\n",
            "Epoch 8/50\n",
            "50000/50000 [==============================] - 16s 320us/step - loss: 0.5901 - acc: 0.8088 - val_loss: 1.0280 - val_acc: 0.6886\n",
            "Epoch 9/50\n",
            "50000/50000 [==============================] - 16s 323us/step - loss: 0.5548 - acc: 0.8196 - val_loss: 0.6677 - val_acc: 0.7769\n",
            "Epoch 10/50\n",
            "50000/50000 [==============================] - 16s 320us/step - loss: 0.5123 - acc: 0.8300 - val_loss: 0.9091 - val_acc: 0.7054\n",
            "Epoch 11/50\n",
            "50000/50000 [==============================] - 16s 320us/step - loss: 0.5066 - acc: 0.8367 - val_loss: 0.6970 - val_acc: 0.7714\n",
            "Epoch 12/50\n",
            "50000/50000 [==============================] - 16s 316us/step - loss: 0.4735 - acc: 0.8441 - val_loss: 0.6320 - val_acc: 0.7986\n",
            "Epoch 13/50\n",
            "50000/50000 [==============================] - 16s 321us/step - loss: 0.4540 - acc: 0.8521 - val_loss: 0.7025 - val_acc: 0.7761\n",
            "Epoch 14/50\n",
            "50000/50000 [==============================] - 16s 324us/step - loss: 0.4296 - acc: 0.8574 - val_loss: 0.8911 - val_acc: 0.7010\n",
            "Epoch 15/50\n",
            "50000/50000 [==============================] - 16s 323us/step - loss: 0.4325 - acc: 0.8606 - val_loss: 0.5717 - val_acc: 0.8097\n",
            "Epoch 16/50\n",
            "50000/50000 [==============================] - 16s 322us/step - loss: 0.3998 - acc: 0.8670 - val_loss: 0.7191 - val_acc: 0.7781\n",
            "Epoch 17/50\n",
            "50000/50000 [==============================] - 16s 322us/step - loss: 0.3894 - acc: 0.8738 - val_loss: 0.9351 - val_acc: 0.7230\n",
            "Epoch 18/50\n",
            "50000/50000 [==============================] - 16s 321us/step - loss: 0.3661 - acc: 0.8786 - val_loss: 0.5780 - val_acc: 0.8187\n",
            "Epoch 19/50\n",
            "50000/50000 [==============================] - 16s 319us/step - loss: 0.3563 - acc: 0.8827 - val_loss: 0.8167 - val_acc: 0.7450\n",
            "Epoch 20/50\n",
            "50000/50000 [==============================] - 16s 323us/step - loss: 0.3508 - acc: 0.8849 - val_loss: 0.7867 - val_acc: 0.7701\n",
            "Epoch 21/50\n",
            "50000/50000 [==============================] - 16s 322us/step - loss: 0.3539 - acc: 0.8873 - val_loss: 0.5700 - val_acc: 0.8243\n",
            "Epoch 22/50\n",
            "50000/50000 [==============================] - 16s 323us/step - loss: 0.3304 - acc: 0.8913 - val_loss: 0.8707 - val_acc: 0.7516\n",
            "Epoch 23/50\n",
            "50000/50000 [==============================] - 16s 322us/step - loss: 0.3277 - acc: 0.8934 - val_loss: 0.9120 - val_acc: 0.7211\n",
            "Epoch 24/50\n",
            "50000/50000 [==============================] - 16s 324us/step - loss: 0.3127 - acc: 0.8986 - val_loss: 0.5913 - val_acc: 0.8196\n",
            "Epoch 25/50\n",
            "50000/50000 [==============================] - 16s 323us/step - loss: 0.3083 - acc: 0.9000 - val_loss: 0.5649 - val_acc: 0.8308\n",
            "Epoch 26/50\n",
            "50000/50000 [==============================] - 16s 321us/step - loss: 0.3035 - acc: 0.9026 - val_loss: 0.7278 - val_acc: 0.7818\n",
            "Epoch 27/50\n",
            "50000/50000 [==============================] - 16s 324us/step - loss: 0.2935 - acc: 0.9050 - val_loss: 0.5884 - val_acc: 0.8246\n",
            "Epoch 28/50\n",
            "50000/50000 [==============================] - 16s 321us/step - loss: 0.2895 - acc: 0.9057 - val_loss: 0.5563 - val_acc: 0.8349\n",
            "Epoch 29/50\n",
            "50000/50000 [==============================] - 16s 322us/step - loss: 0.2863 - acc: 0.9062 - val_loss: 0.7196 - val_acc: 0.7977\n",
            "Epoch 30/50\n",
            "50000/50000 [==============================] - 16s 321us/step - loss: 0.2773 - acc: 0.9113 - val_loss: 0.7695 - val_acc: 0.7717\n",
            "Epoch 31/50\n",
            "50000/50000 [==============================] - 16s 321us/step - loss: 0.2871 - acc: 0.9111 - val_loss: 0.6613 - val_acc: 0.8152\n",
            "Epoch 32/50\n",
            "50000/50000 [==============================] - 16s 321us/step - loss: 0.2721 - acc: 0.9125 - val_loss: 0.6407 - val_acc: 0.8153\n",
            "Epoch 33/50\n",
            "50000/50000 [==============================] - 16s 325us/step - loss: 0.2609 - acc: 0.9147 - val_loss: 0.5833 - val_acc: 0.8237\n",
            "Epoch 34/50\n",
            "50000/50000 [==============================] - 16s 321us/step - loss: 0.2600 - acc: 0.9152 - val_loss: 0.5829 - val_acc: 0.8319\n",
            "Epoch 35/50\n",
            "50000/50000 [==============================] - 16s 319us/step - loss: 0.2501 - acc: 0.9199 - val_loss: 0.7111 - val_acc: 0.8028\n",
            "Epoch 36/50\n",
            "50000/50000 [==============================] - 16s 322us/step - loss: 0.2500 - acc: 0.9189 - val_loss: 0.6143 - val_acc: 0.8225\n",
            "Epoch 37/50\n",
            "50000/50000 [==============================] - 16s 322us/step - loss: 0.2492 - acc: 0.9199 - val_loss: 0.5709 - val_acc: 0.8360\n",
            "Epoch 38/50\n",
            "50000/50000 [==============================] - 16s 320us/step - loss: 0.2429 - acc: 0.9231 - val_loss: 0.6666 - val_acc: 0.8089\n",
            "Epoch 39/50\n",
            "50000/50000 [==============================] - 16s 321us/step - loss: 0.2433 - acc: 0.9234 - val_loss: 0.6209 - val_acc: 0.8251\n",
            "Epoch 40/50\n",
            "50000/50000 [==============================] - 16s 319us/step - loss: 0.2299 - acc: 0.9264 - val_loss: 0.5319 - val_acc: 0.8489\n",
            "Epoch 41/50\n",
            "50000/50000 [==============================] - 16s 318us/step - loss: 0.2291 - acc: 0.9271 - val_loss: 0.5646 - val_acc: 0.8422\n",
            "Epoch 42/50\n",
            "50000/50000 [==============================] - 16s 318us/step - loss: 0.2221 - acc: 0.9287 - val_loss: 0.6832 - val_acc: 0.8078\n",
            "Epoch 43/50\n",
            "50000/50000 [==============================] - 16s 319us/step - loss: 0.2187 - acc: 0.9302 - val_loss: 0.5545 - val_acc: 0.8417\n",
            "Epoch 44/50\n",
            "50000/50000 [==============================] - 16s 322us/step - loss: 0.2202 - acc: 0.9301 - val_loss: 0.5909 - val_acc: 0.8342\n",
            "Epoch 45/50\n",
            "50000/50000 [==============================] - 16s 323us/step - loss: 0.2170 - acc: 0.9308 - val_loss: 0.7203 - val_acc: 0.8020\n",
            "Epoch 46/50\n",
            "50000/50000 [==============================] - 16s 324us/step - loss: 0.2200 - acc: 0.9320 - val_loss: 0.5884 - val_acc: 0.8367\n",
            "Epoch 47/50\n",
            "50000/50000 [==============================] - 16s 322us/step - loss: 0.2052 - acc: 0.9349 - val_loss: 0.9414 - val_acc: 0.7674\n",
            "Epoch 48/50\n",
            "50000/50000 [==============================] - 16s 323us/step - loss: 0.2122 - acc: 0.9339 - val_loss: 0.6510 - val_acc: 0.8214\n",
            "Epoch 49/50\n",
            "50000/50000 [==============================] - 16s 320us/step - loss: 0.2112 - acc: 0.9330 - val_loss: 0.6262 - val_acc: 0.8280\n",
            "Epoch 50/50\n",
            "50000/50000 [==============================] - 16s 319us/step - loss: 0.2088 - acc: 0.9357 - val_loss: 0.6039 - val_acc: 0.8372\n"
          ],
          "name": "stdout"
        }
      ]
    },
    {
      "metadata": {
        "colab_type": "code",
        "id": "xMixT4Hj2Wqd",
        "colab": {}
      },
      "cell_type": "code",
      "source": [
        "# model.save_weights(\"weights_colab.h5\")\n",
        "# model.save(\"model_colab.h5\")"
      ],
      "execution_count": 0,
      "outputs": []
    },
    {
      "metadata": {
        "id": "AXTgvNY5CDMW",
        "colab_type": "code",
        "colab": {
          "base_uri": "https://localhost:8080/",
          "height": 572
        },
        "outputId": "37b69c68-5841-4fa8-b92d-c6bc4aa8c374"
      },
      "cell_type": "code",
      "source": [
        "plt.figure(0)\n",
        "plt.plot(hist.history['acc'],'r')\n",
        "plt.plot(hist.history['val_acc'],'g')\n",
        "plt.xlabel(\"Num of Epochs\")\n",
        "plt.ylabel(\"Accuracy\")\n",
        "plt.title(\"Training Accuracy vs Validation Accuracy\")\n",
        "plt.legend(['train','validation'])\n",
        " \n",
        "plt.figure(1)\n",
        "plt.plot(hist.history['loss'],'r')\n",
        "plt.plot(hist.history['val_loss'],'g')\n",
        "plt.xlabel(\"Num of Epochs\")\n",
        "plt.ylabel(\"Loss\")\n",
        "plt.title(\"Training Loss vs Validation Loss\")\n",
        "plt.legend(['train','validation'])\n",
        " \n",
        "plt.show()"
      ],
      "execution_count": 14,
      "outputs": [
        {
          "output_type": "display_data",
          "data": {
            "image/png": "[encoded data removed]",
            "text/plain": [
              "<Figure size 432x288 with 1 Axes>"
            ]
          },
          "metadata": {
            "tags": []
          }
        },
        {
          "output_type": "display_data",
          "data": {
            "image/png": "[encoded data removed]",
            "text/plain": [
              "<Figure size 432x288 with 1 Axes>"
            ]
          },
          "metadata": {
            "tags": []
          }
        }
      ]
    },
    {
      "metadata": {
        "id": "VYT768MfMP8v",
        "colab_type": "code",
        "colab": {}
      },
      "cell_type": "code",
      "source": [
        ""
      ],
      "execution_count": 0,
      "outputs": []
    }
  ]
}